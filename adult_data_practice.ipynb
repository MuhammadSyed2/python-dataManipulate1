{
  "nbformat": 4,
  "nbformat_minor": 0,
  "metadata": {
    "colab": {
      "provenance": []
    },
    "kernelspec": {
      "name": "python3",
      "display_name": "Python 3"
    },
    "language_info": {
      "name": "python"
    }
  },
  "cells": [
    {
      "cell_type": "code",
      "execution_count": 2,
      "metadata": {
        "colab": {
          "base_uri": "https://localhost:8080/"
        },
        "id": "MzyUFqTDoP6V",
        "outputId": "ee891fa6-6009-4018-8d99-4b5d81e4a8b3"
      },
      "outputs": [
        {
          "output_type": "stream",
          "name": "stdout",
          "text": [
            "White                 27816\n",
            "Black                  3124\n",
            "Asian-Pac-Islander     1039\n",
            "Amer-Indian-Eskimo      311\n",
            "Other                   271\n",
            "Name: race, dtype: int64\n"
          ]
        }
      ],
      "source": [
        "import pandas as pd\n",
        "\n",
        "df = pd.read_csv('/content/adult.data.csv')\n",
        "\n",
        "# 1.\n",
        "race_count = df['race'].value_counts()\n",
        "print(race_count)"
      ]
    },
    {
      "cell_type": "code",
      "source": [
        "# 2.\n",
        "average_men_age = df.loc[df['sex'] == 'Male']['age'].mean().round(decimals=2)\n",
        "print(average_men_age)"
      ],
      "metadata": {
        "colab": {
          "base_uri": "https://localhost:8080/"
        },
        "id": "ceTZEMAntbN4",
        "outputId": "1f4b0e3a-05f2-4073-c7f1-fe600d0234c1"
      },
      "execution_count": 3,
      "outputs": [
        {
          "output_type": "stream",
          "name": "stdout",
          "text": [
            "39.43\n"
          ]
        }
      ]
    },
    {
      "cell_type": "code",
      "source": [
        "# 3.\n",
        "bachelors = df['education'].loc[df['education'] == 'Bachelors'].count()\n",
        "total = df['age'].count()\n",
        "bachelors_percent = (bachelors/total)*100\n",
        "\n",
        "print(bachelors_percent.round(decimals = 2))"
      ],
      "metadata": {
        "colab": {
          "base_uri": "https://localhost:8080/"
        },
        "id": "DU12jLoyuIl4",
        "outputId": "b727af1d-100c-41f5-8e36-8a8744901d99"
      },
      "execution_count": 8,
      "outputs": [
        {
          "output_type": "stream",
          "name": "stdout",
          "text": [
            "16.45\n"
          ]
        }
      ]
    },
    {
      "cell_type": "code",
      "source": [
        "# 4.\n",
        "bachelors = df['education'].loc[(df['education'] == 'Bachelors') & (df['salary'] == '>50K')].count()\n",
        "masters = df['education'].loc[(df['education'] == 'Masters') & (df['salary'] == '>50K')].count()\n",
        "doctorate = df['education'].loc[(df['education'] == 'Doctorate') & (df['salary'] == '>50K')].count()\n",
        "\n",
        "adv_edu = bachelors + masters + doctorate\n",
        "total = df['age'].count()\n",
        "adv_edu_percent = (adv_edu/total)*100\n",
        "\n",
        "print(adv_edu_percent.round(decimals = 2))"
      ],
      "metadata": {
        "colab": {
          "base_uri": "https://localhost:8080/"
        },
        "id": "8nn4bkrXv1uj",
        "outputId": "21793983-21b5-4e15-d7ef-dfbd2984d411"
      },
      "execution_count": 11,
      "outputs": [
        {
          "output_type": "stream",
          "name": "stdout",
          "text": [
            "10.71\n"
          ]
        }
      ]
    },
    {
      "cell_type": "code",
      "source": [
        "# 5.\n",
        "not_adv_edu = df['education'].loc[(df['education'] != 'Bachelors') & (df['education'] != 'Masters')& (df['education'] != 'Doctorate') & (df['salary'] == '>50K')].count()\n",
        "total = df['age'].count()\n",
        "not_adv_edu_percent = (not_adv_edu/total)*100\n",
        "\n",
        "print(not_adv_edu_percent.round(decimals = 2))"
      ],
      "metadata": {
        "colab": {
          "base_uri": "https://localhost:8080/"
        },
        "id": "MAk-f_0wxae3",
        "outputId": "40632039-52f2-4dab-ed42-b7223aeb89cc"
      },
      "execution_count": 13,
      "outputs": [
        {
          "output_type": "stream",
          "name": "stdout",
          "text": [
            "13.37\n"
          ]
        }
      ]
    },
    {
      "cell_type": "code",
      "source": [
        "# 6.\n",
        "min_per_week = df['hours-per-week'].min()\n",
        "print(min_per_week)"
      ],
      "metadata": {
        "colab": {
          "base_uri": "https://localhost:8080/"
        },
        "id": "TyN8FDL61zm_",
        "outputId": "0ffee291-53ad-4bb7-b99f-217c35a51887"
      },
      "execution_count": 17,
      "outputs": [
        {
          "output_type": "stream",
          "name": "stdout",
          "text": [
            "1\n"
          ]
        }
      ]
    },
    {
      "cell_type": "code",
      "source": [
        "# 7.\n",
        "min_hours_per_week = df['hours-per-week'].loc[(df['hours-per-week'] == min_per_week) & (df['salary'] == '>50K')].count()\n",
        "total = df['age'].count()\n",
        "min_per_week_percent = (min_hours_per_week/total)*100\n",
        "\n",
        "print(min_per_week_percent.round(decimals = 2))"
      ],
      "metadata": {
        "colab": {
          "base_uri": "https://localhost:8080/"
        },
        "id": "WFiGcDfh2jxo",
        "outputId": "84d10014-1073-4ac1-d429-3e3d52539ebc"
      },
      "execution_count": 16,
      "outputs": [
        {
          "output_type": "stream",
          "name": "stdout",
          "text": [
            "0.01\n"
          ]
        }
      ]
    },
    {
      "cell_type": "code",
      "source": [
        "# 8.\n",
        "count_sal = df['native-country'][df['salary'] == '>50K'].value_counts().max()\n",
        "count_sal_total = df['native-country'][df['salary'] == '>50K'].count()\n",
        "count_sal_percent = (count_sal/count_sal_total)*100\n",
        "\n",
        "print(count_sal_percent.round(decimals = 2))"
      ],
      "metadata": {
        "colab": {
          "base_uri": "https://localhost:8080/"
        },
        "id": "F_iu_RV-4uNS",
        "outputId": "c58c1172-c5c7-4b2f-fce4-b42e3936208b"
      },
      "execution_count": 25,
      "outputs": [
        {
          "output_type": "stream",
          "name": "stdout",
          "text": [
            "91.46\n"
          ]
        }
      ]
    },
    {
      "cell_type": "code",
      "source": [
        "# 9.\n",
        "df['occupation'].loc[(df['salary'] == '>50K') & (df['native-country'] == 'India')].value_counts()"
      ],
      "metadata": {
        "colab": {
          "base_uri": "https://localhost:8080/"
        },
        "id": "IScQhGAD9GM4",
        "outputId": "5619f534-e580-43dd-bdfd-e73030e47727"
      },
      "execution_count": 47,
      "outputs": [
        {
          "output_type": "execute_result",
          "data": {
            "text/plain": [
              "Prof-specialty      25\n",
              "Exec-managerial      8\n",
              "Other-service        2\n",
              "Tech-support         2\n",
              "Transport-moving     1\n",
              "Sales                1\n",
              "Adm-clerical         1\n",
              "Name: occupation, dtype: int64"
            ]
          },
          "metadata": {},
          "execution_count": 47
        }
      ]
    }
  ]
}